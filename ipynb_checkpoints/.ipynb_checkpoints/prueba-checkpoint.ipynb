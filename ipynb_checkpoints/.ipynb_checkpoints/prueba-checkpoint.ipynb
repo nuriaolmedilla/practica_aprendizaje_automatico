{
 "cells": [
  {
   "cell_type": "code",
   "execution_count": null,
   "id": "e375303e",
   "metadata": {},
   "outputs": [],
   "source": [
    "\"Hola\""
   ]
  }
 ],
 "metadata": {
  "kernelspec": {
   "display_name": "mi_proyecto",
   "language": "python",
   "name": "mi_proyecto"
  },
  "language_info": {
   "codemirror_mode": {
    "name": "ipython",
    "version": 3
   },
   "file_extension": ".py",
   "mimetype": "text/x-python",
   "name": "python",
   "nbconvert_exporter": "python",
   "pygments_lexer": "ipython3",
   "version": "3.9.20"
  }
 },
 "nbformat": 4,
 "nbformat_minor": 5
}
