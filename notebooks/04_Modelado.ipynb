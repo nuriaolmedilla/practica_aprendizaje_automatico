{
 "cells": [
  {
   "cell_type": "markdown",
   "metadata": {},
   "source": [
    "# **Predictive Modeling**"
   ]
  },
  {
   "cell_type": "markdown",
   "metadata": {},
   "source": [
    "### Lucía Poyan, Nuria Olmedilla y Claudia Gemeno"
   ]
  },
  {
   "cell_type": "markdown",
   "metadata": {},
   "source": [
    "This notebook focuses on training and evaluating several classification models, ranging from logistic regression to advanced algorithms such as XGBoost and CatBoost. It also includes techniques for class balancing and hyperparameter optimization to maximize model performance."
   ]
  },
  {
   "cell_type": "markdown",
   "metadata": {},
   "source": [
    "### **Import libraries**"
   ]
  },
  {
   "cell_type": "code",
   "execution_count": 13,
   "metadata": {},
   "outputs": [],
   "source": [
    "import pandas as pd\n",
    "from category_encoders import TargetEncoder\n",
    "from sklearn.preprocessing import StandardScaler\n",
    "from collections import Counter\n",
    "import warnings\n",
    "from imblearn.over_sampling import SMOTE\n",
    "from imblearn.pipeline import Pipeline\n",
    "from sklearn.linear_model import Ridge, LogisticRegression\n",
    "from sklearn.tree import plot_tree\n",
    "from sklearn.feature_selection import SelectFromModel\n",
    "import matplotlib.pyplot as plt\n",
    "import numpy as np\n",
    "from sklearn.tree import DecisionTreeClassifier, plot_tree\n",
    "from sklearn.model_selection import StratifiedKFold, GridSearchCV, RandomizedSearchCV\n",
    "from sklearn.metrics import accuracy_score, roc_auc_score, recall_score, precision_score, f1_score, classification_report, make_scorer, confusion_matrix, ConfusionMatrixDisplay, precision_recall_curve, roc_curve, auc\n",
    "from sklearn.ensemble import RandomForestClassifier\n",
    "import xgboost as xgb\n",
    "import lightgbm as lgb\n",
    "from catboost import CatBoostClassifier\n",
    "from sklearn.svm import SVC\n",
    "from scipy.stats import uniform\n",
    "from sklearn.decomposition import PCA \n",
    "import joblib"
   ]
  },
  {
   "cell_type": "markdown",
   "metadata": {},
   "source": [
    "### **Data Loading**"
   ]
  },
  {
   "cell_type": "code",
   "execution_count": 14,
   "metadata": {},
   "outputs": [],
   "source": [
    "X_train_selected = pd.read_csv(r\"../content/X_train_selected.csv\")\n",
    "X_test_selected = pd.read_csv(r\"../content/X_test_selected.csv\")\n",
    "\n",
    "X_train_pca = pd.read_csv(r\"../content/X_train_pca.csv\")\n",
    "X_test_pca = pd.read_csv(r\"../content/X_test_pca.csv\")\n",
    "\n",
    "y_train_balanced = pd.read_csv(r\"../content/y_train_balanced.csv\")\n",
    "y_test = pd.read_csv(r\"../content/y_test.csv\")\n"
   ]
  },
  {
   "cell_type": "code",
   "execution_count": 15,
   "metadata": {},
   "outputs": [],
   "source": [
    "# Set the random seed for reproducibility\n",
    "seed = 42"
   ]
  },
  {
   "cell_type": "markdown",
   "metadata": {},
   "source": [
    "\n",
    "The models we've decided to test are:\n",
    "\n",
    "1. Logistic Regression (Base Model): A simple model used for binary classification, predicting probabilities of class membership.\n",
    "Random Forest: An ensemble of decision trees that improves accuracy by averaging multiple tree predictions.\n",
    "2. XGBoost: A gradient boosting algorithm known for its speed and performance, often used in structured/tabular data.\n",
    "3. LightGBM: A gradient boosting framework that focuses on efficiency and scalability, optimized for large datasets.\n",
    "4. GLM (Generalized Linear Model): A flexible framework for modeling various types of outcomes, extending linear regression to more complex distributions.\n",
    "5. CatBoost: A gradient boosting algorithm that handles categorical features efficiently, improving performance with less preprocessing.\n",
    "\n",
    "Despite applying SMOTE to balance the data, the model still struggles with predicting the minority class (1). The imbalance remains an issue, as the model tends to favor the majority class (0), leading to lower performance in correctly identifying class 1 instances. "
   ]
  },
  {
   "cell_type": "markdown",
   "metadata": {},
   "source": [
    "### **Base Model - Logistic Regression**"
   ]
  },
  {
   "cell_type": "code",
   "execution_count": 16,
   "metadata": {},
   "outputs": [
    {
     "name": "stderr",
     "output_type": "stream",
     "text": [
      "A column-vector y was passed when a 1d array was expected. Please change the shape of y to (n_samples, ), for example using ravel().\n"
     ]
    },
    {
     "name": "stdout",
     "output_type": "stream",
     "text": [
      "Accuracy: 0.7606\n",
      "ROC AUC: 0.7113\n",
      "Recall: 0.4784\n",
      "Precision: 0.1633\n",
      "F1-Score: 0.2435\n",
      "\n",
      "Classification Report:\n",
      "\n",
      "              precision    recall  f1-score   support\n",
      "\n",
      "           0     0.9450    0.7853    0.8578     15344\n",
      "           1     0.1633    0.4784    0.2435      1344\n",
      "\n",
      "    accuracy                         0.7606     16688\n",
      "   macro avg     0.5542    0.6319    0.5507     16688\n",
      "weighted avg     0.8821    0.7606    0.8083     16688\n",
      "\n"
     ]
    }
   ],
   "source": [
    "model = LogisticRegression(random_state=seed)\n",
    "model.fit(X_train_pca, y_train_balanced)\n",
    "\n",
    "y_pred = model.predict(X_test_pca)\n",
    "y_pred_proba = model.predict_proba(X_test_pca)[:, 1]  \n",
    "\n",
    "# Evaluate the model\n",
    "accuracy = accuracy_score(y_test, y_pred)\n",
    "roc_auc = roc_auc_score(y_test, y_pred_proba) \n",
    "recall = recall_score(y_test, y_pred)\n",
    "precision = precision_score(y_test, y_pred)\n",
    "f1 = f1_score(y_test, y_pred)\n",
    "\n",
    "print(f\"Accuracy: {accuracy:.4f}\")\n",
    "print(f\"ROC AUC: {roc_auc:.4f}\")\n",
    "print(f\"Recall: {recall:.4f}\")\n",
    "print(f\"Precision: {precision:.4f}\")\n",
    "print(f\"F1-Score: {f1:.4f}\")\n",
    "\n",
    "print(\"\\nClassification Report:\\n\")\n",
    "print(classification_report(y_test, y_pred, digits=4))\n"
   ]
  },
  {
   "cell_type": "markdown",
   "metadata": {},
   "source": [
    "The logistic regression model performs well on predicting the majority class (0) but struggles with the minority class (1). While accuracy is decent (76%), the model has low precision and F1-score for class 1, indicating many false positives and missed positive cases. The ROC AUC score suggests some ability to distinguish between the classes, but overall, the model has room for improvement, especially with imbalanced data."
   ]
  },
  {
   "cell_type": "markdown",
   "metadata": {},
   "source": [
    "### **RANDOM FOREST**"
   ]
  },
  {
   "cell_type": "code",
   "execution_count": 17,
   "metadata": {},
   "outputs": [
    {
     "name": "stderr",
     "output_type": "stream",
     "text": [
      "A column-vector y was passed when a 1d array was expected. Please change the shape of y to (n_samples,), for example using ravel().\n"
     ]
    },
    {
     "name": "stdout",
     "output_type": "stream",
     "text": [
      "Random Forest Accuracy: 0.9076\n",
      "Random Forest ROC AUC: 0.6834\n",
      "Random Forest Recall: 0.0722\n",
      "Random Forest Precision: 0.2474\n",
      "Random Forest F1-Score: 0.1118\n",
      "\n",
      "Classification Report:\n",
      "\n",
      "              precision    recall  f1-score   support\n",
      "\n",
      "           0     0.9235    0.9808    0.9513     15344\n",
      "           1     0.2474    0.0722    0.1118      1344\n",
      "\n",
      "    accuracy                         0.9076     16688\n",
      "   macro avg     0.5855    0.5265    0.5315     16688\n",
      "weighted avg     0.8690    0.9076    0.8837     16688\n",
      "\n"
     ]
    }
   ],
   "source": [
    "rf_model = RandomForestClassifier(random_state=seed, class_weight='balanced') \n",
    "rf_model.fit(X_train_pca, y_train_balanced)\n",
    "\n",
    "rf_pred = rf_model.predict(X_test_pca)\n",
    "rf_pred_proba = rf_model.predict_proba(X_test_pca)[:, 1]  \n",
    "\n",
    "# Evaluate the model\n",
    "rf_accuracy = accuracy_score(y_test, rf_pred)\n",
    "rf_roc_auc = roc_auc_score(y_test, rf_pred_proba) \n",
    "rf_recall = recall_score(y_test, rf_pred)\n",
    "rf_precision = precision_score(y_test, rf_pred)\n",
    "rf_f1 = f1_score(y_test, rf_pred)\n",
    "\n",
    "# Print metrics\n",
    "print(f\"Random Forest Accuracy: {rf_accuracy:.4f}\")\n",
    "print(f\"Random Forest ROC AUC: {rf_roc_auc:.4f}\")\n",
    "print(f\"Random Forest Recall: {rf_recall:.4f}\")\n",
    "print(f\"Random Forest Precision: {rf_precision:.4f}\")\n",
    "print(f\"Random Forest F1-Score: {rf_f1:.4f}\")\n",
    "\n",
    "print(\"\\nClassification Report:\\n\")\n",
    "print(classification_report(y_test, rf_pred, digits=4))\n"
   ]
  },
  {
   "cell_type": "markdown",
   "metadata": {},
   "source": [
    "For the Random Forest model, we see that while the accuracy is high (0.9076), it still struggles with predicting the minority class (1). The recall for class 1 is very low (0.0722), meaning it misses most of the true positive instances of class 1. Precision for class 1 is higher (0.2474), but the F1-score remains low (0.1118), indicating poor performance in identifying class 1 accurately. This suggests that, despite the overall accuracy, the model is still biased toward predicting the majority class (0) due to the imbalance in the data."
   ]
  },
  {
   "cell_type": "markdown",
   "metadata": {},
   "source": [
    "### **XGBOOST**"
   ]
  },
  {
   "cell_type": "code",
   "execution_count": 18,
   "metadata": {},
   "outputs": [
    {
     "name": "stderr",
     "output_type": "stream",
     "text": [
      "[12:08:09] WARNING: C:\\buildkite-agent\\builds\\buildkite-windows-cpu-autoscaling-group-i-0c55ff5f71b100e98-1\\xgboost\\xgboost-ci-windows\\src\\learner.cc:740: \n",
      "Parameters: { \"use_label_encoder\" } are not used.\n",
      "\n"
     ]
    },
    {
     "name": "stdout",
     "output_type": "stream",
     "text": [
      "XGBoost Accuracy: 0.8747\n",
      "XGBoost ROC AUC: 0.5951\n",
      "XGBoost Recall: 0.1220\n",
      "XGBoost Precision: 0.1526\n",
      "XGBoost F1-score: 0.1356\n",
      "\n",
      "Classification Report:\n",
      "\n",
      "              precision    recall  f1-score   support\n",
      "\n",
      "           0     0.9244    0.9406    0.9325     15344\n",
      "           1     0.1526    0.1220    0.1356      1344\n",
      "\n",
      "    accuracy                         0.8747     16688\n",
      "   macro avg     0.5385    0.5313    0.5340     16688\n",
      "weighted avg     0.8623    0.8747    0.8683     16688\n",
      "\n"
     ]
    }
   ],
   "source": [
    "xgb_model = xgb.XGBClassifier(random_state=seed, use_label_encoder=False, eval_metric='logloss') \n",
    "xgb_model.fit(X_train_pca, y_train_balanced)\n",
    "\n",
    "xgb_pred = xgb_model.predict(X_test_pca)\n",
    "xgb_pred_proba = xgb_model.predict_proba(X_test_pca)[:, 1]  \n",
    "\n",
    "# Evaluate the model\n",
    "xgb_accuracy = accuracy_score(y_test, xgb_pred)\n",
    "xgb_roc_auc = roc_auc_score(y_test, xgb_pred_proba)\n",
    "xgb_recall = recall_score(y_test, xgb_pred)\n",
    "xgb_precision = precision_score(y_test, xgb_pred)\n",
    "xgb_f1 = f1_score(y_test, xgb_pred)\n",
    "\n",
    "# Print metrics\n",
    "print(f\"XGBoost Accuracy: {xgb_accuracy:.4f}\")\n",
    "print(f\"XGBoost ROC AUC: {xgb_roc_auc:.4f}\")\n",
    "print(f\"XGBoost Recall: {xgb_recall:.4f}\")\n",
    "print(f\"XGBoost Precision: {xgb_precision:.4f}\")\n",
    "print(f\"XGBoost F1-score: {xgb_f1:.4f}\")\n",
    "\n",
    "print(\"\\nClassification Report:\\n\")\n",
    "print(classification_report(y_test, xgb_pred, digits=4))\n"
   ]
  },
  {
   "cell_type": "markdown",
   "metadata": {},
   "source": [
    "For the XGBoost model, although the accuracy is decent (0.8747), the model again struggles with the minority class (1). The recall for class 1 is low (0.1220), indicating that it misses a significant number of true positives for this class. The precision (0.1526) is also low, leading to a low F1-score (0.1356), showing that the model is not effectively identifying class 1. Similar to Random Forest, the imbalance in the data significantly affects the performance on the minority class."
   ]
  },
  {
   "cell_type": "markdown",
   "metadata": {},
   "source": [
    "### **LIGHTGBM**\n"
   ]
  },
  {
   "cell_type": "code",
   "execution_count": 19,
   "metadata": {},
   "outputs": [
    {
     "name": "stderr",
     "output_type": "stream",
     "text": [
      "A column-vector y was passed when a 1d array was expected. Please change the shape of y to (n_samples, ), for example using ravel().\n",
      "A column-vector y was passed when a 1d array was expected. Please change the shape of y to (n_samples, ), for example using ravel().\n"
     ]
    },
    {
     "name": "stdout",
     "output_type": "stream",
     "text": [
      "[LightGBM] [Info] Number of positive: 61375, number of negative: 61375\n",
      "[LightGBM] [Info] Auto-choosing col-wise multi-threading, the overhead of testing was 0.044657 seconds.\n",
      "You can set `force_col_wise=true` to remove the overhead.\n",
      "[LightGBM] [Info] Total Bins 31875\n",
      "[LightGBM] [Info] Number of data points in the train set: 122750, number of used features: 125\n",
      "[LightGBM] [Info] [binary:BoostFromScore]: pavg=0.500000 -> initscore=0.000000\n",
      "LightGBM Accuracy: 0.8517\n",
      "LightGBM ROC AUC: 0.5962\n",
      "LightGBM Recall: 0.1920\n",
      "LightGBM Precision: 0.1566\n",
      "LightGBM F1-Score: 0.1725\n",
      "\n",
      "Classification Report:\n",
      "\n",
      "              precision    recall  f1-score   support\n",
      "\n",
      "           0     0.9278    0.9095    0.9185     15344\n",
      "           1     0.1566    0.1920    0.1725      1344\n",
      "\n",
      "    accuracy                         0.8517     16688\n",
      "   macro avg     0.5422    0.5507    0.5455     16688\n",
      "weighted avg     0.8657    0.8517    0.8585     16688\n",
      "\n"
     ]
    }
   ],
   "source": [
    "lgb_model = lgb.LGBMClassifier(random_state=seed, class_weight='balanced')  \n",
    "lgb_model.fit(X_train_pca, y_train_balanced)\n",
    "\n",
    "lgb_pred = lgb_model.predict(X_test_pca)\n",
    "lgb_pred_proba = lgb_model.predict_proba(X_test_pca)[:, 1] \n",
    "\n",
    "# Evaluate the model\n",
    "lgb_accuracy = accuracy_score(y_test, lgb_pred)\n",
    "lgb_roc_auc = roc_auc_score(y_test, lgb_pred_proba)\n",
    "lgb_recall = recall_score(y_test, lgb_pred)\n",
    "lgb_precision = precision_score(y_test, lgb_pred)\n",
    "lgb_f1 = f1_score(y_test, lgb_pred)\n",
    "\n",
    "# Print metrics\n",
    "print(f\"LightGBM Accuracy: {lgb_accuracy:.4f}\")\n",
    "print(f\"LightGBM ROC AUC: {lgb_roc_auc:.4f}\")\n",
    "print(f\"LightGBM Recall: {lgb_recall:.4f}\")\n",
    "print(f\"LightGBM Precision: {lgb_precision:.4f}\")\n",
    "print(f\"LightGBM F1-Score: {lgb_f1:.4f}\")\n",
    "\n",
    "print(\"\\nClassification Report:\\n\")\n",
    "print(classification_report(y_test, lgb_pred, digits=4))\n"
   ]
  },
  {
   "cell_type": "markdown",
   "metadata": {},
   "source": [
    "For the LightGBM model, the accuracy is 0.8517, but similar to the other models, it struggles with predicting the minority class (1). The recall for class 1 is 0.1920, meaning the model identifies a small portion of the true positives in this class. Precision is also low (0.1566), which contributes to a low F1-score (0.1725). Despite the relatively high accuracy and good performance on class 0, the imbalance in the dataset still impacts the model's ability to effectively classify the minority class."
   ]
  },
  {
   "cell_type": "markdown",
   "metadata": {},
   "source": [
    "### **GLM**\n"
   ]
  },
  {
   "cell_type": "code",
   "execution_count": 20,
   "metadata": {},
   "outputs": [
    {
     "name": "stderr",
     "output_type": "stream",
     "text": [
      "A column-vector y was passed when a 1d array was expected. Please change the shape of y to (n_samples, ), for example using ravel().\n"
     ]
    },
    {
     "name": "stdout",
     "output_type": "stream",
     "text": [
      "GLM Accuracy: 0.7606\n",
      "GLM ROC AUC: 0.7113\n",
      "GLM Precision: 0.1633\n",
      "GLM Recall: 0.4784\n",
      "GLM F1-score: 0.2435\n",
      "\n",
      "Classification Report:\n",
      "\n",
      "              precision    recall  f1-score   support\n",
      "\n",
      "           0     0.9450    0.7853    0.8578     15344\n",
      "           1     0.1633    0.4784    0.2435      1344\n",
      "\n",
      "    accuracy                         0.7606     16688\n",
      "   macro avg     0.5542    0.6319    0.5507     16688\n",
      "weighted avg     0.8821    0.7606    0.8083     16688\n",
      "\n"
     ]
    }
   ],
   "source": [
    "glm_model = LogisticRegression(solver='lbfgs', class_weight='balanced', random_state=seed)\n",
    "glm_model.fit(X_train_pca, y_train_balanced)\n",
    "\n",
    "glm_pred = glm_model.predict(X_test_pca)\n",
    "glm_pred_proba = glm_model.predict_proba(X_test_pca)[:, 1]  \n",
    "\n",
    "# Evaluate the model\n",
    "glm_accuracy = accuracy_score(y_test, glm_pred)\n",
    "glm_roc_auc = roc_auc_score(y_test, glm_pred_proba)  \n",
    "glm_precision = precision_score(y_test, glm_pred)\n",
    "glm_recall = recall_score(y_test, glm_pred)\n",
    "glm_f1 = f1_score(y_test, glm_pred)\n",
    "\n",
    "# Print metrics\n",
    "print(f\"GLM Accuracy: {glm_accuracy:.4f}\")\n",
    "print(f\"GLM ROC AUC: {glm_roc_auc:.4f}\")\n",
    "print(f\"GLM Precision: {glm_precision:.4f}\")\n",
    "print(f\"GLM Recall: {glm_recall:.4f}\")\n",
    "print(f\"GLM F1-score: {glm_f1:.4f}\")\n",
    "\n",
    "print(\"\\nClassification Report:\\n\")\n",
    "print(classification_report(y_test, glm_pred, digits=4))\n"
   ]
  },
  {
   "cell_type": "markdown",
   "metadata": {},
   "source": [
    "The GLM model shows an accuracy of 0.7606, which is decent. It performs reasonably well on class 0 (the majority class) but still struggles with class 1 (the minority class), as indicated by the low precision (0.1633) and F1-score (0.2435) for class 1. However, compared to other models, it seems to be one of the better performing ones for balancing both classes, as it achieves a recall of 0.4784 for class 1. Despite the challenges with the imbalance, GLM currently appears to be the most balanced model so far in terms of handling both classes."
   ]
  },
  {
   "cell_type": "markdown",
   "metadata": {},
   "source": [
    "### **CATBOOST**"
   ]
  },
  {
   "cell_type": "code",
   "execution_count": 21,
   "metadata": {},
   "outputs": [
    {
     "name": "stdout",
     "output_type": "stream",
     "text": [
      "CatBoost Accuracy: 0.7454\n",
      "CatBoost ROC AUC: 0.6121\n",
      "CatBoost Precision: 0.1236\n",
      "CatBoost Recall: 0.3549\n",
      "CatBoost F1-score: 0.1834\n",
      "\n",
      "Classification Report:\n",
      "\n",
      "              precision    recall  f1-score   support\n",
      "\n",
      "           0     0.9324    0.7797    0.8492     15344\n",
      "           1     0.1236    0.3549    0.1834      1344\n",
      "\n",
      "    accuracy                         0.7454     16688\n",
      "   macro avg     0.5280    0.5673    0.5163     16688\n",
      "weighted avg     0.8673    0.7454    0.7956     16688\n",
      "\n"
     ]
    }
   ],
   "source": [
    "catboost_model = CatBoostClassifier(random_state=seed, class_weights=[1, 10], verbose=0)\n",
    "catboost_model.fit(X_train_pca, y_train_balanced)\n",
    "\n",
    "catboost_pred = catboost_model.predict(X_test_pca)\n",
    "catboost_pred_proba = catboost_model.predict_proba(X_test_pca)[:, 1]\n",
    "\n",
    "# Evaluate the model\n",
    "catboost_accuracy = accuracy_score(y_test, catboost_pred)\n",
    "catboost_roc_auc = roc_auc_score(y_test, catboost_pred_proba)\n",
    "catboost_precision = precision_score(y_test, catboost_pred)\n",
    "catboost_recall = recall_score(y_test, catboost_pred)\n",
    "catboost_f1 = f1_score(y_test, catboost_pred)\n",
    "\n",
    "# Print metrics\n",
    "print(f\"CatBoost Accuracy: {catboost_accuracy:.4f}\")\n",
    "print(f\"CatBoost ROC AUC: {catboost_roc_auc:.4f}\")\n",
    "print(f\"CatBoost Precision: {catboost_precision:.4f}\")\n",
    "print(f\"CatBoost Recall: {catboost_recall:.4f}\")\n",
    "print(f\"CatBoost F1-score: {catboost_f1:.4f}\")\n",
    "\n",
    "print(\"\\nClassification Report:\\n\")\n",
    "print(classification_report(y_test, catboost_pred, digits=4))\n"
   ]
  },
  {
   "cell_type": "markdown",
   "metadata": {},
   "source": [
    "The CatBoost model shows an accuracy of 0.7454, which is lower than other models like Random Forest and Logistic Regression. However, it still provides a reasonable performance on class 1, with a recall of 0.3549, which is better than some of the other models. The precision (0.1236) and F1-score (0.1834) for class 1 are still low, indicating that the model struggles with the minority class."
   ]
  },
  {
   "cell_type": "markdown",
   "metadata": {},
   "source": [
    "### **SVM**"
   ]
  },
  {
   "cell_type": "code",
   "execution_count": null,
   "metadata": {},
   "outputs": [
    {
     "name": "stdout",
     "output_type": "stream",
     "text": [
      "SVM Accuracy: 0.7700\n",
      "SVM ROC AUC: 0.6928\n",
      "SVM Precision: 0.1537\n",
      "SVM Recall: 0.4133\n",
      "SVM F1-score: 0.2240\n",
      "\n",
      "Classification Report:\n",
      "\n",
      "              precision    recall  f1-score   support\n",
      "\n",
      "           0     0.9399    0.8012    0.8650     13795\n",
      "           1     0.1537    0.4133    0.2240      1205\n",
      "\n",
      "    accuracy                         0.7700     15000\n",
      "   macro avg     0.5468    0.6072    0.5445     15000\n",
      "weighted avg     0.8767    0.7700    0.8135     15000\n",
      "\n"
     ]
    }
   ],
   "source": [
    "# Sample size\n",
    "sample_size = 15000\n",
    "\n",
    "# Generate random indices\n",
    "np.random.seed(seed)\n",
    "train_indices = np.random.choice(X_train_pca.shape[0], sample_size, replace=False)\n",
    "test_indices = np.random.choice(X_test_pca.shape[0], sample_size, replace=False)\n",
    "\n",
    "# Subset the data\n",
    "X_train_sample = X_train_pca[train_indices]\n",
    "y_train_sample = y_train_balanced[train_indices]\n",
    "X_test_sample = X_test_pca[test_indices]\n",
    "y_test_sample = y_test[test_indices]\n",
    "\n",
    "# SVM Model\n",
    "svm_model = SVC(kernel='linear', class_weight='balanced', random_state=seed, probability=True)\n",
    "svm_model.fit(X_train_sample, y_train_sample)\n",
    "\n",
    "# Predictions\n",
    "svm_pred = svm_model.predict(X_test_sample)\n",
    "svm_pred_proba = svm_model.predict_proba(X_test_sample)[:, 1]\n",
    "\n",
    "# Evaluate the model\n",
    "svm_accuracy = accuracy_score(y_test_sample, svm_pred)\n",
    "svm_roc_auc = roc_auc_score(y_test_sample, svm_pred_proba)\n",
    "svm_precision = precision_score(y_test_sample, svm_pred)\n",
    "svm_recall = recall_score(y_test_sample, svm_pred)\n",
    "svm_f1 = f1_score(y_test_sample, svm_pred)\n",
    "\n",
    "# Print metrics\n",
    "print(f\"SVM Accuracy: {svm_accuracy:.4f}\")\n",
    "print(f\"SVM ROC AUC: {svm_roc_auc:.4f}\")\n",
    "print(f\"SVM Precision: {svm_precision:.4f}\")\n",
    "print(f\"SVM Recall: {svm_recall:.4f}\")\n",
    "print(f\"SVM F1-score: {svm_f1:.4f}\")\n",
    "\n",
    "print(\"\\nClassification Report:\\n\")\n",
    "print(classification_report(y_test_sample, svm_pred, digits=4))\n",
    "\n"
   ]
  },
  {
   "cell_type": "markdown",
   "metadata": {},
   "source": [
    "We decided to test the Support Vector Machine (SVM) model to see how it performs with our data. The SVM is a classification algorithm that seeks to find the best hyperplane to separate the classes in the feature space. Since we are working with a very large dataset, the training time could be extensive, which would make it difficult to conduct tests and tune hyperparameters.\n",
    "\n",
    "For this reason, to conduct an initial test and observe the results more quickly, we chose to use a smaller subset of data, with 15,000 samples instead of the full dataset. Although the results obtained with this sample may seem promising, we must keep in mind that we cannot delve into hyperparameter optimization or conduct an exhaustive evaluation of the model due to the reduced size of the data.\n",
    "\n",
    "This approach allowed us to get a preliminary view of the model's performance, but it is not sufficient to fine-tune the model or generalize the results to the entire dataset."
   ]
  },
  {
   "cell_type": "markdown",
   "metadata": {},
   "source": [
    "Finally, we have chosen two models—Logistic Regression and GLM—as they have the best metrics. These models will undergo hyperparameter optimization to further improve their performance. However, it’s important to note that these selections are temporary, and after optimization, we will evaluate them again to decide which model will be the final choice."
   ]
  },
  {
   "cell_type": "markdown",
   "metadata": {},
   "source": [
    "## **Hyperparameter Optimization**"
   ]
  },
  {
   "cell_type": "markdown",
   "metadata": {},
   "source": [
    "### **Test with Randomized Search (Logistic Regression)**"
   ]
  },
  {
   "cell_type": "code",
   "execution_count": null,
   "metadata": {},
   "outputs": [
    {
     "name": "stdout",
     "output_type": "stream",
     "text": [
      "Fitting 5 folds for each of 50 candidates, totalling 250 fits\n",
      "Best hyperparameters: {'C': 3.687831327192532, 'class_weight': 'balanced', 'l1_ratio': 0.9850808268053587, 'max_iter': 500, 'penalty': 'elasticnet'}\n",
      "Accuracy: 0.7607\n",
      "ROC AUC: 0.7113\n",
      "Recall: 0.4784\n",
      "Precision: 0.1634\n",
      "F1-Score: 0.2436\n",
      "\n",
      "Classification Report:\n",
      "\n",
      "              precision    recall  f1-score   support\n",
      "\n",
      "           0     0.9450    0.7855    0.8579     15344\n",
      "           1     0.1634    0.4784    0.2436      1344\n",
      "\n",
      "    accuracy                         0.7607     16688\n",
      "   macro avg     0.5542    0.6319    0.5507     16688\n",
      "weighted avg     0.8821    0.7607    0.8084     16688\n",
      "\n"
     ]
    }
   ],
   "source": [
    "# Base model\n",
    "model = LogisticRegression(random_state=seed, solver='saga')\n",
    "\n",
    "# Search space\n",
    "param_distributions = {\n",
    "    'penalty': ['l1', 'l2', 'elasticnet', 'none'],\n",
    "    'C': uniform(0.01, 10),  \n",
    "    'l1_ratio': uniform(0.1, 0.9),  \n",
    "    'class_weight': [None, 'balanced'],\n",
    "    'max_iter': [100, 500, 1000]\n",
    "}\n",
    "\n",
    "# RandomizedSearchCV configuration\n",
    "random_search = RandomizedSearchCV(\n",
    "    estimator=model,\n",
    "    param_distributions=param_distributions,\n",
    "    n_iter=50,  # Try 50 random combinations\n",
    "    scoring='f1',  # Optimize F1-Score\n",
    "    cv=5,\n",
    "    verbose=1,\n",
    "    n_jobs=-1,\n",
    "    random_state=seed\n",
    ")\n",
    "\n",
    "random_search.fit(X_train_pca, y_train_balanced)\n",
    "\n",
    "# Best combination of hyperparameters\n",
    "best_params = random_search.best_params_\n",
    "print(f\"Best hyperparameters: {best_params}\")\n",
    "\n",
    "# Evaluate the optimized model\n",
    "best_model = random_search.best_estimator_\n",
    "y_pred = best_model.predict(X_test_pca)\n",
    "y_pred_proba = best_model.predict_proba(X_test_pca)[:, 1]\n",
    "\n",
    "# Calculate metrics\n",
    "accuracy = accuracy_score(y_test, y_pred)\n",
    "roc_auc = roc_auc_score(y_test, y_pred_proba)\n",
    "recall = recall_score(y_test, y_pred)\n",
    "precision = precision_score(y_test, y_pred)\n",
    "f1 = f1_score(y_test, y_pred)\n",
    "\n",
    "print(f\"Accuracy: {accuracy:.4f}\")\n",
    "print(f\"ROC AUC: {roc_auc:.4f}\")\n",
    "print(f\"Recall: {recall:.4f}\")\n",
    "print(f\"Precision: {precision:.4f}\")\n",
    "print(f\"F1-Score: {f1:.4f}\")\n",
    "\n",
    "# Classification Report\n",
    "print(\"\\nClassification Report:\\n\")\n",
    "print(classification_report(y_test, y_pred, digits=4))\n"
   ]
  },
  {
   "cell_type": "markdown",
   "metadata": {},
   "source": [
    "Hyperparameter optimization for logistic regression was conducted using Randomized Search with 50 random parameter combinations and 5-fold cross-validation. The best hyperparameters included a C value of 3.69, elasticnet regularization, balanced class weights, an l1_ratio of 0.99, and a maximum of 500 iterations.\n",
    "\n",
    "Despite optimization, model performance metrics showed minimal improvement. Overall accuracy increased marginally from 0.7606 to 0.7607, and the F1-score for the minority class slightly improved from 0.2435 to 0.2436. Other metrics, such as ROC AUC (0.7113) and recall for the minority class (0.4784), remained unchanged. Grid Search was attempted but could not be executed due to computational constraints.\n",
    "\n",
    "In conclusion, the optimization confirmed that the initial parameters were close to a local optimum. However, the primary limitation lies in the class imbalance, which restricts the model's ability to improve minority class predictions."
   ]
  },
  {
   "cell_type": "markdown",
   "metadata": {},
   "source": [
    "### **Test with Grid Search (GLM with Logistic Regression)**"
   ]
  },
  {
   "cell_type": "code",
   "execution_count": null,
   "metadata": {},
   "outputs": [
    {
     "name": "stdout",
     "output_type": "stream",
     "text": [
      "Fitting 5 folds for each of 60 candidates, totalling 300 fits\n",
      "Best hyperparameters: {'C': 100, 'class_weight': {0: 0.5, 1: 0.5}, 'max_iter': 100}\n",
      "GLM Optimized Accuracy: 0.7605\n",
      "GLM Optimized ROC AUC: 0.7113\n",
      "GLM Optimized Precision: 0.1633\n",
      "GLM Optimized Recall: 0.4784\n",
      "GLM Optimized F1-score: 0.2435\n",
      "\n",
      "Classification Report:\n",
      "\n",
      "              precision    recall  f1-score   support\n",
      "\n",
      "           0     0.9450    0.7853    0.8578     15344\n",
      "           1     0.1633    0.4784    0.2435      1344\n",
      "\n",
      "    accuracy                         0.7605     16688\n",
      "   macro avg     0.5542    0.6318    0.5506     16688\n",
      "weighted avg     0.8821    0.7605    0.8083     16688\n",
      "\n"
     ]
    }
   ],
   "source": [
    "glm_base = LogisticRegression(solver='lbfgs', random_state=seed)\n",
    "\n",
    "# Define hyperparameters for GridSearchCV\n",
    "param_grid = {\n",
    "    'C': [0.01, 0.1, 1, 10, 100],  \n",
    "    'max_iter': [100, 200, 500],   \n",
    "    'class_weight': [\n",
    "        'balanced',\n",
    "        {0: 0.7, 1: 0.3},\n",
    "        {0: 0.6, 1: 0.4},\n",
    "        {0: 0.5, 1: 0.5}\n",
    "    ]\n",
    "}\n",
    "\n",
    "scorer = make_scorer(roc_auc_score, needs_proba=True)\n",
    "\n",
    "# Configure GridSearchCV\n",
    "grid_search = GridSearchCV(\n",
    "    estimator=glm_base,\n",
    "    param_grid=param_grid,\n",
    "    scoring=scorer,\n",
    "    cv=5,  \n",
    "    n_jobs=-1,\n",
    "    verbose=2\n",
    ")\n",
    "\n",
    "grid_search.fit(X_train_pca, y_train_balanced)\n",
    "\n",
    "# Get the best hyperparameters and metrics\n",
    "best_params = grid_search.best_params_\n",
    "print(\"Best hyperparameters:\", best_params)\n",
    "\n",
    "# Evaluate the model with the best hyperparameters\n",
    "glm_optimized = grid_search.best_estimator_\n",
    "glm_pred = glm_optimized.predict(X_test_pca)\n",
    "glm_pred_proba = glm_optimized.predict_proba(X_test_pca)[:, 1]\n",
    "\n",
    "# Calculate metrics\n",
    "glm_accuracy = accuracy_score(y_test, glm_pred)\n",
    "glm_roc_auc = roc_auc_score(y_test, glm_pred_proba)\n",
    "glm_precision = precision_score(y_test, glm_pred)\n",
    "glm_recall = recall_score(y_test, glm_pred)\n",
    "glm_f1 = f1_score(y_test, glm_pred)\n",
    "\n",
    "# Print metrics\n",
    "print(f\"GLM Optimized Accuracy: {glm_accuracy:.4f}\")\n",
    "print(f\"GLM Optimized ROC AUC: {glm_roc_auc:.4f}\")\n",
    "print(f\"GLM Optimized Precision: {glm_precision:.4f}\")\n",
    "print(f\"GLM Optimized Recall: {glm_recall:.4f}\")\n",
    "print(f\"GLM Optimized F1-score: {glm_f1:.4f}\")\n",
    "\n",
    "# Print the full classification report\n",
    "print(\"\\nClassification Report:\\n\")\n",
    "print(classification_report(y_test, glm_pred, digits=4))\n"
   ]
  },
  {
   "cell_type": "markdown",
   "metadata": {},
   "source": [
    "### **Test with Randomized Search (GLM with Logistic Regression)**"
   ]
  },
  {
   "cell_type": "code",
   "execution_count": null,
   "metadata": {},
   "outputs": [
    {
     "name": "stdout",
     "output_type": "stream",
     "text": [
      "Fitting 5 folds for each of 50 candidates, totalling 250 fits\n",
      "Best hyperparameters: {'C': 6.515159298527951, 'class_weight': {0: 0.5, 1: 0.5}, 'max_iter': 100}\n",
      "GLM Optimized Accuracy: 0.7605\n",
      "GLM Optimized ROC AUC: 0.7113\n",
      "GLM Optimized Precision: 0.1632\n",
      "GLM Optimized Recall: 0.4784\n",
      "GLM Optimized F1-score: 0.2434\n",
      "\n",
      "Classification Report:\n",
      "\n",
      "              precision    recall  f1-score   support\n",
      "\n",
      "           0     0.9450    0.7852    0.8577     15344\n",
      "           1     0.1632    0.4784    0.2434      1344\n",
      "\n",
      "    accuracy                         0.7605     16688\n",
      "   macro avg     0.5541    0.6318    0.5506     16688\n",
      "weighted avg     0.8821    0.7605    0.8082     16688\n",
      "\n"
     ]
    }
   ],
   "source": [
    "# # TEST WITH RANDOMIZED SEARCH (GLM with Logistic Regression)\n",
    "\n",
    "glm_base = LogisticRegression(solver='lbfgs', random_state=seed)\n",
    "\n",
    "# Define the search space for RandomizedSearchCV\n",
    "param_distributions = {\n",
    "    'C': uniform(0.01, 100),  \n",
    "    'max_iter': [100, 200, 500, 1000], \n",
    "    'class_weight': [\n",
    "        'balanced',\n",
    "        {0: 0.7, 1: 0.3},\n",
    "        {0: 0.6, 1: 0.4},\n",
    "        {0: 0.5, 1: 0.5}\n",
    "    ]\n",
    "}\n",
    "\n",
    "scorer = make_scorer(roc_auc_score, needs_proba=True)\n",
    "\n",
    "random_search = RandomizedSearchCV(\n",
    "    estimator=glm_base,\n",
    "    param_distributions=param_distributions,\n",
    "    n_iter=50,  \n",
    "    scoring=scorer,\n",
    "    cv=5,  \n",
    "    n_jobs=-1, \n",
    "    verbose=2,\n",
    "    random_state=seed\n",
    ")\n",
    "\n",
    "random_search.fit(X_train_pca, y_train_balanced)\n",
    "\n",
    "# Get the best hyperparameters and metrics\n",
    "best_params = random_search.best_params_\n",
    "print(\"Best hyperparameters:\", best_params)\n",
    "\n",
    "# Evaluate the model with the best hyperparameters\n",
    "glm_optimized = random_search.best_estimator_\n",
    "glm_pred = glm_optimized.predict(X_test_pca)\n",
    "glm_pred_proba = glm_optimized.predict_proba(X_test_pca)[:, 1]\n",
    "\n",
    "# Calculate metrics\n",
    "glm_accuracy = accuracy_score(y_test, glm_pred)\n",
    "glm_roc_auc = roc_auc_score(y_test, glm_pred_proba)\n",
    "glm_precision = precision_score(y_test, glm_pred)\n",
    "glm_recall = recall_score(y_test, glm_pred)\n",
    "glm_f1 = f1_score(y_test, glm_pred)\n",
    "\n",
    "# Print metrics\n",
    "print(f\"GLM Optimized Accuracy: {glm_accuracy:.4f}\")\n",
    "print(f\"GLM Optimized ROC AUC: {glm_roc_auc:.4f}\")\n",
    "print(f\"GLM Optimized Precision: {glm_precision:.4f}\")\n",
    "print(f\"GLM Optimized Recall: {glm_recall:.4f}\")\n",
    "print(f\"GLM Optimized F1-score: {glm_f1:.4f}\")\n",
    "\n",
    "print(\"\\nClassification Report:\\n\")\n",
    "print(classification_report(y_test, glm_pred, digits=4))"
   ]
  },
  {
   "cell_type": "markdown",
   "metadata": {},
   "source": [
    "In the hyperparameter optimization process, two main methods were used: Grid Search and Randomized Search, to tune key model parameters such as C, class_weight, and max_iter. Both methods resulted in almost identical outcomes to the unoptimized model, indicating that changes in the hyperparameters had no significant impact.\n",
    "\n",
    "Grid Search performs an exhaustive search by evaluating all possible combinations within a defined space. In this case, it found the best parameters as C=100, class_weight={0: 0.5, 1: 0.5}, and max_iter=100. However, metrics such as accuracy, ROC AUC, precision, recall, and F1-score showed no differences compared to the initial model. This happens because the model was already tuned for optimal performance with its default configuration, and changes in C were not significant enough to alter its behavior.\n",
    "\n",
    "Randomized Search, in contrast, selects random combinations of hyperparameters within the same defined space, evaluating a subset of the possibilities. This technique suggested the best configuration as C=6.51, class_weight={0: 0.5, 1: 0.5}, and max_iter=100, but no improvements were observed in the metrics either. This reinforces the idea that the model does not strongly rely on fine-tuning these parameters, and that the data, along with its representation, dominate its performance.\n",
    "\n",
    "In summary, both methods confirmed that the GLM model had already achieved a consistent level of performance from the start, and adjustments to the hyperparameters did not bring improvements due to the inherent stability of the model and the predominant influence of the data."
   ]
  },
  {
   "cell_type": "markdown",
   "metadata": {},
   "source": [
    "Finally, we have decided that our best model, as can be seen from the metrics, is the GLM. Therefore, we will proceed with the final modeling, explainability, and other next steps."
   ]
  },
  {
   "cell_type": "code",
   "execution_count": null,
   "metadata": {},
   "outputs": [
    {
     "data": {
      "image/png": "[encoded data removed]",
      "text/plain": [
       "<Figure size 800x600 with 1 Axes>"
      ]
     },
     "metadata": {},
     "output_type": "display_data"
    }
   ],
   "source": [
    "# Calculate the values for the ROC curve\n",
    "fpr, tpr, thresholds = roc_curve(y_test, glm_pred_proba)\n",
    "roc_auc = auc(fpr, tpr)\n",
    "\n",
    "plt.figure(figsize=(8, 6))\n",
    "plt.plot(fpr, tpr, color='blue', lw=2, label=f\"ROC Curve (AUC = {roc_auc:.4f})\")\n",
    "plt.plot([0, 1], [0, 1], color='gray', linestyle='--', lw=2, label=\"Random Classifier\")\n",
    "plt.xlabel(\"False Positive Rate\", fontsize=12)\n",
    "plt.ylabel(\"True Positive Rate\", fontsize=12)\n",
    "plt.title(\"Receiver Operating Characteristic (ROC) Curve\", fontsize=14)\n",
    "plt.legend(loc=\"lower right\", fontsize=10)\n",
    "plt.grid(alpha=0.3)\n",
    "plt.show()\n"
   ]
  },
  {
   "cell_type": "markdown",
   "metadata": {},
   "source": [
    "**ROC Curve (Receiver Operating Characteristic):**\n",
    "\n",
    "The ROC curve shows the relationship between the True Positive Rate and the False Positive Rate for different decision thresholds.\n",
    "\n",
    "Interpretation:\n",
    "- **AUC (Area Under the Curve):** In this case, the AUC is 0.7113, which indicates that the model has a moderate ability to distinguish between positive and negative classes (with 1.0 being ideal and 0.5 equivalent to a random classifier).\n",
    "- **Diagonal line (random classifier):** Represents the performance of a classifier that makes random decisions. Your model (blue curve) performs better than this line, indicating better than random performance."
   ]
  },
  {
   "cell_type": "code",
   "execution_count": null,
   "metadata": {},
   "outputs": [
    {
     "data": {
      "image/png": "[encoded data removed]",
      "text/plain": [
       "<Figure size 800x600 with 1 Axes>"
      ]
     },
     "metadata": {},
     "output_type": "display_data"
    }
   ],
   "source": [
    "# Gain Curve\n",
    "sorted_indices = np.argsort(glm_pred_proba)[::-1] \n",
    "sorted_y_test = y_test.iloc[sorted_indices] \n",
    "\n",
    "# Calculate the cumulative gain\n",
    "cumulative_gain = np.cumsum(sorted_y_test) \n",
    "total_positives = np.sum(sorted_y_test) \n",
    "cumulative_gain = cumulative_gain / total_positives  \n",
    "\n",
    "random_gain = np.arange(1, len(sorted_y_test) + 1) / len(sorted_y_test) \n",
    "\n",
    "plt.figure(figsize=(8, 6))\n",
    "plt.plot(fpr, tpr, color='blue', lw=2, label=f\"ROC Curve (AUC = {roc_auc:.4f})\")\n",
    "plt.plot(np.arange(1, len(sorted_y_test) + 1) / len(sorted_y_test), cumulative_gain, label=\"Gain Curve\", color='green', linewidth=2)\n",
    "plt.plot(np.arange(1, len(sorted_y_test) + 1) / len(sorted_y_test), random_gain, label=\"Random Baseline\", linestyle=\"--\", color='red', linewidth=2)\n",
    "plt.xlabel(\"False Positive Rate / Proportion of Data\", fontsize=12)\n",
    "plt.ylabel(\"True Positive Rate / Cumulative Gain\", fontsize=12)\n",
    "plt.title(\"ROC Curve and Gain Curve\", fontsize=14)\n",
    "plt.legend(loc=\"lower right\", fontsize=10)\n",
    "plt.grid(alpha=0.3)\n",
    "plt.tight_layout()\n",
    "plt.show()"
   ]
  },
  {
   "cell_type": "markdown",
   "metadata": {},
   "source": [
    "**ROC Curve Combined with Gain Curve:**\n",
    "\n",
    "This graph combines the ROC curve with a gain curve, which shows the cumulative proportion of positive data identified by the model as more data is included (according to the classification threshold).\n",
    "\n",
    "Interpretation:\n",
    "- **The ROC curve (blue)** shows the same information as the previous graph.\n",
    "- **The Gain Curve (green)** reflects how the model correctly prioritizes positive predictions when using a subset of data classified as positive. However, the gain curve is slightly below the ROC curve, indicating that the model's ability to prioritize positive cases is not as strong as indicated by the ROC curve, resulting in a slightly lower performance in capturing positive instances.\n",
    "\n",
    "- **The red line (random baseline)** serves as a reference for a model with no predictive power."
   ]
  },
  {
   "cell_type": "code",
   "execution_count": null,
   "metadata": {},
   "outputs": [
    {
     "data": {
      "image/png": "[encoded data removed]",
      "text/plain": [
       "<Figure size 1200x600 with 2 Axes>"
      ]
     },
     "metadata": {},
     "output_type": "display_data"
    }
   ],
   "source": [
    "# Compute the confusion matrix\n",
    "conf_matrix = confusion_matrix(y_test, glm_pred)\n",
    "\n",
    "# Calculate the percentage version of the confusion matrix\n",
    "conf_matrix_percent_fixed = conf_matrix / conf_matrix.sum() * 100 \n",
    "\n",
    "# Create subplots\n",
    "fig, axes = plt.subplots(1, 2, figsize=(12, 6))\n",
    "\n",
    "# Confusion matrix with absolute values\n",
    "disp_abs = ConfusionMatrixDisplay(confusion_matrix=conf_matrix, display_labels=glm_optimized.classes_)\n",
    "disp_abs.plot(ax=axes[0], cmap=\"Blues\", values_format=\"d\", colorbar=False)\n",
    "axes[0].set_title(\"Confusion Matrix (Absolute)\", fontsize=14)\n",
    "axes[0].grid(False)\n",
    "\n",
    "# Confusion matrix with percentages (formatted to 2 decimal places)\n",
    "disp_percent_fixed = ConfusionMatrixDisplay(confusion_matrix=conf_matrix_percent_fixed, display_labels=glm_optimized.classes_)\n",
    "disp_percent_fixed.plot(ax=axes[1], cmap=\"Blues\", values_format=\".2f\", colorbar=False)\n",
    "axes[1].set_title(\"Confusion Matrix (Percent)\", fontsize=14)\n",
    "axes[1].grid(False)\n",
    "plt.tight_layout()\n",
    "plt.show()"
   ]
  },
  {
   "cell_type": "markdown",
   "metadata": {},
   "source": [
    "**Confusion Matrix (Absolute and Percentage):**\n",
    "\n",
    "The confusion matrix analyzes the model's predictions in terms of true positives, false positives, true negatives, and false negatives.\n",
    "\n",
    "**Absolute Matrix:**\n",
    "- **True Negatives (TN):** 12,048 cases correctly classified as negative.\n",
    "- **False Positives (FP):** 3,296 cases incorrectly classified as positive.\n",
    "- **False Negatives (FN):** 701 cases incorrectly classified as negative.\n",
    "- **True Positives (TP):** 643 cases correctly classified as positive.\n",
    "\n",
    "**Percentage Matrix:**\n",
    "\n",
    "Shows the same data in relative terms:\n",
    "- TN: 72.20%, FP: 19.75%, FN: 4.20%, TP: 3.85%.\n",
    "- A low percentage of true positives (TP) at 3.85% suggests that the model is struggling to correctly identify the positive class, which might require threshold adjustments or model improvements.\n",
    "\n",
    "The model shows moderate performance (AUC = 0.7113), but the low percentage of true positives (TP) in the confusion matrix suggests that improvements could be made by adjusting the decision threshold, gathering more data, or experimenting with other more complex architectures/models."
   ]
  },
  {
   "cell_type": "markdown",
   "metadata": {},
   "source": [
    "### GLM Model Evaluation"
   ]
  },
  {
   "cell_type": "markdown",
   "metadata": {},
   "source": [
    "The Generalized Linear Model (GLM) was chosen as the best model due to its strong performance metrics compared to other methods. It achieved an overall accuracy of 0.7606, but in an imbalanced problem like this, accuracy is not the most representative metric, as it is heavily influenced by the majority class. Metrics by class provide more insight.\n",
    "\n",
    "For the majority class (0), the model had a precision of 0.9450 and a recall of 0.7853, indicating it correctly classifies most negative instances. However, for the minority class (1), the model's precision was 0.1633 and recall was 0.4784, reflecting significant false positives despite identifying 47.8% of true positive cases. The F1-score of 0.2435 for the minority class confirms the difficulty in balancing precision and recall for this class.\n",
    "\n",
    "In practical terms, the GLM stands out for its simplicity, fast training, and interpretability, which is advantageous for projects requiring transparency. Techniques like regularization and class_weight adjustments helped mitigate class imbalance to some extent, but they did not substantially improve the minority class metrics.\n",
    "\n",
    "While the GLM was the best among the evaluated models, the class imbalance remains a critical challenge. Despite using techniques like SMOTE and hyperparameter optimization, the model struggled to reduce false negatives or improve precision for the minority class."
   ]
  },
  {
   "cell_type": "code",
   "execution_count": null,
   "metadata": {},
   "outputs": [],
   "source": [
    "joblib.dump(glm_optimized, 'glm_optimized.pkl')\n",
    "\n",
    "X_train_pca_df = pd.DataFrame(X_train_pca)\n",
    "X_test_pca_df = pd.DataFrame(X_test_pca)\n",
    "X_train_pca_df.to_csv(r'../content/X_train_pca.csv', index=False)\n",
    "X_test_pca_df.to_csv(r'../content/X_test_pca.csv', index=False)\n",
    "\n",
    "X_train_selected_df = pd.DataFrame(X_train_selected)\n",
    "X_train_selected_df.to_csv(r'../content/X_train_selected.csv', index=False)"
   ]
  },
  {
   "cell_type": "markdown",
   "metadata": {},
   "source": [
    "In this notebook, several algorithms were evaluated to address a classification problem with imbalanced data. Among the models tested, the GLM (Generalized Linear Model) stood out as the best in terms of balancing simplicity, interpretability, and performance. Although other models like XGBoost, LightGBM, and Random Forest showed high overall accuracy, they struggled significantly to predict the minority class (1).\n",
    "\n",
    "The GLM achieved an overall accuracy of 0.7606 and a recall of 47.84% for class 1, outperforming other models in balanced metrics. While hyperparameter optimization using Grid Search and Randomized Search showed no significant improvements, the model proved to be robust from its initial configuration.\n",
    "\n",
    "Despite its solid performance, the challenge of class imbalance persists, limiting the effective identification of the minority class. This suggests the need to explore additional techniques in future iterations to further optimize the prediction of this class.\n",
    "\n",
    "\n",
    "\n",
    "\n",
    "\n",
    "\n"
   ]
  }
 ],
 "metadata": {
  "kernelspec": {
   "display_name": "proyecto_final_aprendizaje_automatico",
   "language": "python",
   "name": "python3"
  },
  "language_info": {
   "codemirror_mode": {
    "name": "ipython",
    "version": 3
   },
   "file_extension": ".py",
   "mimetype": "text/x-python",
   "name": "python",
   "nbconvert_exporter": "python",
   "pygments_lexer": "ipython3",
   "version": "3.8.20"
  }
 },
 "nbformat": 4,
 "nbformat_minor": 2
}
